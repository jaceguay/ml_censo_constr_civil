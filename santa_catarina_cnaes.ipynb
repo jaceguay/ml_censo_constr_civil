{
 "metadata": {
  "language_info": {
   "codemirror_mode": {
    "name": "ipython",
    "version": 3
   },
   "file_extension": ".py",
   "mimetype": "text/x-python",
   "name": "python",
   "nbconvert_exporter": "python",
   "pygments_lexer": "ipython3",
   "version": "3.6.9-final"
  },
  "orig_nbformat": 2,
  "kernelspec": {
   "name": "python_defaultSpec_1600299604219",
   "display_name": "Python 3.6.9 64-bit"
  }
 },
 "nbformat": 4,
 "nbformat_minor": 2,
 "cells": [
  {
   "cell_type": "code",
   "execution_count": 1,
   "metadata": {},
   "outputs": [],
   "source": [
    "import pandas as pd"
   ]
  },
  {
   "cell_type": "code",
   "execution_count": 2,
   "metadata": {},
   "outputs": [],
   "source": [
    "df = pd.read_csv('cnaes_municipios.csv')"
   ]
  },
  {
   "source": [
    "Columnas:\n",
    "- 41 = Construção de edifícios\n",
    "- 42 = Obras de Infraestrutura\n",
    "- 43 = Serviços especializados para construção"
   ],
   "cell_type": "markdown",
   "metadata": {}
  },
  {
   "cell_type": "code",
   "execution_count": 3,
   "metadata": {},
   "outputs": [
    {
     "output_type": "execute_result",
     "data": {
      "text/plain": "   codigo_ibge    41   42     43\n0      4200051   NaN  NaN   15.0\n1      4200101  24.0  8.0  152.0\n2      4200200   6.0  2.0  146.0\n3      4200309  15.0  NaN   32.0\n4      4200408   3.0  1.0   71.0",
      "text/html": "<div>\n<style scoped>\n    .dataframe tbody tr th:only-of-type {\n        vertical-align: middle;\n    }\n\n    .dataframe tbody tr th {\n        vertical-align: top;\n    }\n\n    .dataframe thead th {\n        text-align: right;\n    }\n</style>\n<table border=\"1\" class=\"dataframe\">\n  <thead>\n    <tr style=\"text-align: right;\">\n      <th></th>\n      <th>codigo_ibge</th>\n      <th>41</th>\n      <th>42</th>\n      <th>43</th>\n    </tr>\n  </thead>\n  <tbody>\n    <tr>\n      <th>0</th>\n      <td>4200051</td>\n      <td>NaN</td>\n      <td>NaN</td>\n      <td>15.0</td>\n    </tr>\n    <tr>\n      <th>1</th>\n      <td>4200101</td>\n      <td>24.0</td>\n      <td>8.0</td>\n      <td>152.0</td>\n    </tr>\n    <tr>\n      <th>2</th>\n      <td>4200200</td>\n      <td>6.0</td>\n      <td>2.0</td>\n      <td>146.0</td>\n    </tr>\n    <tr>\n      <th>3</th>\n      <td>4200309</td>\n      <td>15.0</td>\n      <td>NaN</td>\n      <td>32.0</td>\n    </tr>\n    <tr>\n      <th>4</th>\n      <td>4200408</td>\n      <td>3.0</td>\n      <td>1.0</td>\n      <td>71.0</td>\n    </tr>\n  </tbody>\n</table>\n</div>"
     },
     "metadata": {},
     "execution_count": 3
    }
   ],
   "source": [
    "df.head()"
   ]
  }
 ]
}